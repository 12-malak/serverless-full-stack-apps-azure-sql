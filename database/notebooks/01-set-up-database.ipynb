{
    "metadata": {
        "kernelspec": {
            "name": "SQL",
            "display_name": "SQL",
            "language": "sql"
        },
        "language_info": {
            "name": "sql",
            "version": ""
        }
    },
    "nbformat_minor": 2,
    "nbformat": 4,
    "cells": [
        {
            "cell_type": "markdown",
            "source": [
                "# Set up Azure SQL Database for catching the bus application\n",
                "\n",
                "This is a SQL Notebook, which allows you to separate text and code blocks and save code results. Azure Data Studio supports several languages, referred to as kernels, including SQL, PowerShell, Python, and more.\n",
                "\n",
                "In this activity, you'll learn how to import data into Azure SQL Database and create tables to store the route data, geofence data, and real-time bus information.\n",
                "\n",
                "## Connect to `bus-db`\n",
                "\n",
                "At the top of the window, select **Select Connection** \\> **Change Connection** next to \"Attach to\".\n",
                "\n",
                "Under _Recent Connections_ select your `bus-db` connection.\n",
                "\n",
                "You should now see it listed next to _Attach to_."
            ],
            "metadata": {
                "azdata_cell_guid": "a2782576-c8ad-483e-bd03-289dd656844c"
            }
        },
        {
            "cell_type": "markdown",
            "source": [
                "## Part 1: Import the bus route data from Azure Blob Storage\n",
                "\n",
                "The first step in configuring the database for the scenario is to import a CSV file that contains route information data. The following script will walk you through that process. Full documentation on \"Accessing data in a CSV file referencing an Azure blob storage location\" here: [https://docs.microsoft.com/sql/relational-databases/import-export/examples-of-bulk-access-to-data-in-azure-blob-storage](https://docs.microsoft.com/sql/relational-databases/import-export/examples-of-bulk-access-to-data-in-azure-blob-storage).\n",
                "\n",
                "You need to first create a table and schema for data to be loaded into."
            ],
            "metadata": {
                "azdata_cell_guid": "f348fdae-e69a-4271-907d-e6b4e0619151"
            }
        },
        {
            "cell_type": "code",
            "source": [
                "SET ANSI_NULLS ON\r\n",
                "GO\r\n",
                "SET QUOTED_IDENTIFIER ON\r\n",
                "GO\r\n",
                "CREATE TABLE [dbo].[Routes](\r\n",
                "\t[Id] [int] NOT NULL,\r\n",
                "\t[AgencyId] [varchar](100) NULL,\r\n",
                "\t[ShortName] [varchar](100) NULL,\r\n",
                "\t[Description] [varchar](1000) NULL,\r\n",
                "\t[Type] [int] NULL\r\n",
                ") ON [PRIMARY]\r\n",
                "GO\r\n",
                "ALTER TABLE [dbo].[Routes] ADD PRIMARY KEY CLUSTERED \r\n",
                "(\r\n",
                "\t[Id] ASC\r\n",
                ")WITH (STATISTICS_NORECOMPUTE = OFF, IGNORE_DUP_KEY = OFF, ONLINE = OFF, OPTIMIZE_FOR_SEQUENTIAL_KEY = OFF) ON [PRIMARY]\r\n",
                "GO\r\n",
                ""
            ],
            "metadata": {
                "azdata_cell_guid": "c14329fd-fee4-4014-a77d-ed5b59785685"
            },
            "outputs": [
                {
                    "output_type": "display_data",
                    "data": {
                        "text/html": "Commands completed successfully."
                    },
                    "metadata": {}
                },
                {
                    "output_type": "display_data",
                    "data": {
                        "text/html": "Commands completed successfully."
                    },
                    "metadata": {}
                },
                {
                    "output_type": "display_data",
                    "data": {
                        "text/html": "Commands completed successfully."
                    },
                    "metadata": {}
                },
                {
                    "output_type": "display_data",
                    "data": {
                        "text/html": "Commands completed successfully."
                    },
                    "metadata": {}
                },
                {
                    "output_type": "display_data",
                    "data": {
                        "text/html": "Total execution time: 00:00:00.317"
                    },
                    "metadata": {}
                }
            ],
            "execution_count": 3
        },
        {
            "cell_type": "markdown",
            "source": [
                "The next step is to create a master key."
            ],
            "metadata": {
                "azdata_cell_guid": "962dcc3f-be18-4cc3-bdfc-d670c962a0dc"
            }
        },
        {
            "cell_type": "code",
            "source": [
                "CREATE MASTER KEY ENCRYPTION BY PASSWORD = 'mySuperStr0n9P@assw0rd!'"
            ],
            "metadata": {
                "azdata_cell_guid": "5a690353-b1f9-43b2-85e1-2a7467f7b3ad"
            },
            "outputs": [
                {
                    "output_type": "display_data",
                    "data": {
                        "text/html": "Commands completed successfully."
                    },
                    "metadata": {}
                },
                {
                    "output_type": "display_data",
                    "data": {
                        "text/html": "Total execution time: 00:00:00.078"
                    },
                    "metadata": {}
                }
            ],
            "execution_count": 4
        },
        {
            "cell_type": "markdown",
            "source": [
                "A master key is required to create a `DATABASE SCOPED CREDENTIAL` value because Blob storage is not configured to allow public (anonymous) access. The credential refers to the Blob storage account, and the data portion specifies the container for the store return data.\n",
                "\n",
                "We use a shared access signature as the identity that Azure SQL knows how to interpret. The secret is the SAS token that you can generate from the Blob storage account. In this example, the SAS token for a storage account that you don't have access to is provided so you can access only the store return data."
            ],
            "metadata": {
                "azdata_cell_guid": "3a30a8e0-5054-471c-84f3-6e28dc47c694"
            }
        },
        {
            "cell_type": "code",
            "source": [
                "CREATE DATABASE SCOPED CREDENTIAL AzureBlobCredentials\r\n",
                "WITH IDENTITY = 'SHARED ACCESS SIGNATURE',\r\n",
                "SECRET = 'sp=r&st=2021-03-12T00:47:24Z&se=2025-03-11T07:47:24Z&spr=https&sv=2020-02-10&sr=c&sig=BmuxFevKhWgbvo%2Bj8TlLYObjbB7gbvWzQaAgvGcg50c%3D' -- Omit any leading question mark\r\n",
                ""
            ],
            "metadata": {
                "azdata_cell_guid": "92c0d495-d239-4dd1-b095-05f8fa0a6cef"
            },
            "outputs": [
                {
                    "output_type": "display_data",
                    "data": {
                        "text/html": "Commands completed successfully."
                    },
                    "metadata": {}
                },
                {
                    "output_type": "display_data",
                    "data": {
                        "text/html": "Total execution time: 00:00:00.075"
                    },
                    "metadata": {}
                }
            ],
            "execution_count": 5
        },
        {
            "cell_type": "markdown",
            "source": [
                "Next, create an external data source to the container."
            ],
            "metadata": {
                "azdata_cell_guid": "bca17886-bcfa-4eaa-87b1-94e94e801ce7"
            }
        },
        {
            "cell_type": "code",
            "source": [
                "CREATE EXTERNAL DATA SOURCE RouteData\r\n",
                "WITH (\r\n",
                "\tTYPE = blob_storage,\r\n",
                "\tLOCATION = 'https://azuresqlworkshopsa.blob.core.windows.net/bus',\r\n",
                "\tCREDENTIAL = AzureBlobCredentials\r\n",
                ")"
            ],
            "metadata": {
                "azdata_cell_guid": "aea81643-4d8a-44b2-a915-8d797f036be5"
            },
            "outputs": [
                {
                    "output_type": "display_data",
                    "data": {
                        "text/html": "Commands completed successfully."
                    },
                    "metadata": {}
                },
                {
                    "output_type": "display_data",
                    "data": {
                        "text/html": "Total execution time: 00:00:00.074"
                    },
                    "metadata": {}
                }
            ],
            "execution_count": 6
        },
        {
            "cell_type": "markdown",
            "source": [
                "Now you are ready to bring in the data."
            ],
            "metadata": {
                "azdata_cell_guid": "7658b21b-c9a0-4ffd-a2dc-7af3d0f87842"
            }
        },
        {
            "cell_type": "code",
            "source": [
                "DELETE FROM dbo.[Routes];\r\n",
                "INSERT INTO dbo.[Routes]\r\n",
                "\t([Id], [AgencyId], [ShortName], [Description], [Type])\r\n",
                "SELECT \r\n",
                "\t[Id], [AgencyId], [ShortName], [Description], [Type]\r\n",
                "FROM \r\n",
                "openrowset\r\n",
                "\t( \r\n",
                "\t\tbulk 'routes.txt', \r\n",
                "\t\tdata_source = 'RouteData', \r\n",
                "\t\tformatfile = 'routes.fmt', \r\n",
                "\t\tformatfile_data_source = 'RouteData', \r\n",
                "\t\tfirstrow=2,\r\n",
                "\t\tformat='csv'\r\n",
                "\t) t;"
            ],
            "metadata": {
                "azdata_cell_guid": "3f642673-43ec-4215-91da-a3a37776fb2f"
            },
            "outputs": [
                {
                    "output_type": "display_data",
                    "data": {
                        "text/html": "(0 rows affected)"
                    },
                    "metadata": {}
                },
                {
                    "output_type": "display_data",
                    "data": {
                        "text/html": "(132 rows affected)"
                    },
                    "metadata": {}
                },
                {
                    "output_type": "display_data",
                    "data": {
                        "text/html": "Total execution time: 00:00:00.239"
                    },
                    "metadata": {}
                }
            ],
            "execution_count": 7
        },
        {
            "cell_type": "markdown",
            "source": [
                "Finally, let's look at what's been inserted relative to the route we'll be tracking."
            ],
            "metadata": {
                "azdata_cell_guid": "622d6f84-6ece-4b52-a2a1-8666cec71128"
            }
        },
        {
            "cell_type": "code",
            "source": [
                "SELECT * FROM dbo.[Routes] WHERE [Description] LIKE '%Education Hill%'"
            ],
            "metadata": {
                "azdata_cell_guid": "48fa0ba2-64cb-4230-a9b2-e7264994d7d7"
            },
            "outputs": [
                {
                    "output_type": "display_data",
                    "data": {
                        "text/html": "(1 row affected)"
                    },
                    "metadata": {}
                },
                {
                    "output_type": "display_data",
                    "data": {
                        "text/html": "Total execution time: 00:00:00.083"
                    },
                    "metadata": {}
                },
                {
                    "output_type": "execute_result",
                    "metadata": {},
                    "execution_count": 8,
                    "data": {
                        "application/vnd.dataresource+json": {
                            "schema": {
                                "fields": [
                                    {
                                        "name": "Id"
                                    },
                                    {
                                        "name": "AgencyId"
                                    },
                                    {
                                        "name": "ShortName"
                                    },
                                    {
                                        "name": "Description"
                                    },
                                    {
                                        "name": "Type"
                                    }
                                ]
                            },
                            "data": [
                                {
                                    "0": "100113",
                                    "1": "1",
                                    "2": "221",
                                    "3": "Education Hill - Crossroads - Eastgate",
                                    "4": "3"
                                }
                            ]
                        },
                        "text/html": [
                            "<table>",
                            "<tr><th>Id</th><th>AgencyId</th><th>ShortName</th><th>Description</th><th>Type</th></tr>",
                            "<tr><td>100113</td><td>1</td><td>221</td><td>Education Hill - Crossroads - Eastgate</td><td>3</td></tr>",
                            "</table>"
                        ]
                    }
                }
            ],
            "execution_count": 8
        },
        {
            "cell_type": "markdown",
            "source": [
                "## Part 2: Create necessary tables\n",
                "\n",
                "### Select a route to monitor\n",
                "\n",
                "Now that you've added the route information, you can select the route to be a \"Monitored Route\". This will come in handy if you later choose to monitor multiple routes. For now, you will just add the \"Education Hill - Crossroads - Eastgate\" route."
            ],
            "metadata": {
                "azdata_cell_guid": "102d8657-f5ab-4921-809d-d77fc9b41ad2"
            }
        },
        {
            "cell_type": "code",
            "source": [
                "-- Create MonitoredRoutes table\r\n",
                "SET ANSI_NULLS ON\r\n",
                "GO\r\n",
                "SET QUOTED_IDENTIFIER ON\r\n",
                "GO\r\n",
                "CREATE TABLE [dbo].[MonitoredRoutes](\r\n",
                "\t[RouteId] [int] NOT NULL\r\n",
                ") ON [PRIMARY]\r\n",
                "GO\r\n",
                "ALTER TABLE [dbo].[MonitoredRoutes] ADD PRIMARY KEY CLUSTERED \r\n",
                "(\r\n",
                "\t[RouteId] ASC\r\n",
                ")WITH (STATISTICS_NORECOMPUTE = OFF, IGNORE_DUP_KEY = OFF, ONLINE = OFF, OPTIMIZE_FOR_SEQUENTIAL_KEY = OFF) ON [PRIMARY]\r\n",
                "GO\r\n",
                "ALTER TABLE [dbo].[MonitoredRoutes]  WITH CHECK ADD  CONSTRAINT [FK__MonitoredRoutes__Router] FOREIGN KEY([RouteId])\r\n",
                "REFERENCES [dbo].[Routes] ([Id])\r\n",
                "GO\r\n",
                "ALTER TABLE [dbo].[MonitoredRoutes] CHECK CONSTRAINT [FK__MonitoredRoutes__Router]\r\n",
                "GO\r\n",
                "-- Monitor the \"Education Hill - Crossroads - Eastgate\" route\r\n",
                "INSERT INTO dbo.[MonitoredRoutes] (RouteId) VALUES (100113);"
            ],
            "metadata": {
                "azdata_cell_guid": "b8d596bf-0540-49fa-b206-ce52397c0459"
            },
            "outputs": [
                {
                    "output_type": "display_data",
                    "data": {
                        "text/html": "Commands completed successfully."
                    },
                    "metadata": {}
                },
                {
                    "output_type": "display_data",
                    "data": {
                        "text/html": "Commands completed successfully."
                    },
                    "metadata": {}
                },
                {
                    "output_type": "display_data",
                    "data": {
                        "text/html": "Commands completed successfully."
                    },
                    "metadata": {}
                },
                {
                    "output_type": "display_data",
                    "data": {
                        "text/html": "Commands completed successfully."
                    },
                    "metadata": {}
                },
                {
                    "output_type": "display_data",
                    "data": {
                        "text/html": "Commands completed successfully."
                    },
                    "metadata": {}
                },
                {
                    "output_type": "display_data",
                    "data": {
                        "text/html": "Commands completed successfully."
                    },
                    "metadata": {}
                },
                {
                    "output_type": "display_data",
                    "data": {
                        "text/html": "(1 row affected)"
                    },
                    "metadata": {}
                },
                {
                    "output_type": "display_data",
                    "data": {
                        "text/html": "Total execution time: 00:00:00.511"
                    },
                    "metadata": {}
                }
            ],
            "execution_count": 9
        },
        {
            "cell_type": "markdown",
            "source": [
                "### Select a GeoFence to monitor\r\n",
                "\r\n",
                "In addition to monitoring specific bus routes, you will want to monitor certain GeoFences so you can ultimately get notified when your bus enters or exits where you are (i.e. the GeoFence). For now, you will add a small GeoFence that represents the area near the \"Crossroads\" bus stop."
            ],
            "metadata": {
                "azdata_cell_guid": "a53ad031-a7c3-40a9-bf5b-695a148dbea9"
            }
        },
        {
            "cell_type": "code",
            "source": [
                "-- Create GeoFences table\r\n",
                "CREATE SEQUENCE [dbo].[global]\r\n",
                "    AS INT\r\n",
                "    START WITH 1\r\n",
                "    INCREMENT BY 1\r\n",
                "GO\r\n",
                "SELECT  NEXT VALUE FOR [dbo].[global]\r\n",
                "GO\r\n",
                "SET ANSI_NULLS ON\r\n",
                "GO\r\n",
                "SET QUOTED_IDENTIFIER ON\r\n",
                "GO\r\n",
                "CREATE TABLE [dbo].[GeoFences](\r\n",
                "\t[Id] [int] NOT NULL,\r\n",
                "\t[Name] [nvarchar](100) NOT NULL,\r\n",
                "\t[GeoFence] [geography] NOT NULL\r\n",
                ") ON [PRIMARY] TEXTIMAGE_ON [PRIMARY]\r\n",
                "GO\r\n",
                "ALTER TABLE [dbo].[GeoFences] ADD PRIMARY KEY CLUSTERED \r\n",
                "(\r\n",
                "\t[Id] ASC\r\n",
                ")WITH (STATISTICS_NORECOMPUTE = OFF, IGNORE_DUP_KEY = OFF, ONLINE = OFF, OPTIMIZE_FOR_SEQUENTIAL_KEY = OFF) ON [PRIMARY]\r\n",
                "GO\r\n",
                "ALTER TABLE [dbo].[GeoFences] ADD  DEFAULT (NEXT VALUE FOR [dbo].[global]) FOR [Id]\r\n",
                "GO\r\n",
                "SET ARITHABORT ON\r\n",
                "SET CONCAT_NULL_YIELDS_NULL ON\r\n",
                "SET QUOTED_IDENTIFIER ON\r\n",
                "SET ANSI_NULLS ON\r\n",
                "SET ANSI_PADDING ON\r\n",
                "SET ANSI_WARNINGS ON\r\n",
                "SET NUMERIC_ROUNDABORT OFF\r\n",
                "GO\r\n",
                "CREATE SPATIAL INDEX [ixsp] ON [dbo].[GeoFences]\r\n",
                "(\r\n",
                "\t[GeoFence]\r\n",
                ")USING  GEOGRAPHY_AUTO_GRID \r\n",
                "WITH (\r\n",
                "CELLS_PER_OBJECT = 12, STATISTICS_NORECOMPUTE = OFF, DROP_EXISTING = OFF, ONLINE = OFF) ON [PRIMARY]\r\n",
                "GO\r\n",
                "-- Create a GeoFence\r\n",
                "INSERT INTO dbo.[GeoFences] \r\n",
                "\t([Name], [GeoFence]) \r\n",
                "VALUES\r\n",
                "\t('Crossroads', 0xE6100000010407000000B4A78EA822CF4740E8D7539530895EC03837D51CEACE4740E80BFBE630895EC0ECD7DF53EACE4740E81B2C50F0885EC020389F0D03CF4740E99BD2A1F0885EC00CB8BEB203CF4740E9DB04FC23895EC068C132B920CF4740E9DB04FC23895EC0B4A78EA822CF4740E8D7539530895EC001000000020000000001000000FFFFFFFF0000000003);\r\n",
                "GO\r\n",
                ""
            ],
            "metadata": {
                "azdata_cell_guid": "1cc9823a-4b83-4e91-a36f-8b503abf0347"
            },
            "outputs": [
                {
                    "output_type": "display_data",
                    "data": {
                        "text/html": "Commands completed successfully."
                    },
                    "metadata": {}
                },
                {
                    "output_type": "display_data",
                    "data": {
                        "text/html": "(1 row affected)"
                    },
                    "metadata": {}
                },
                {
                    "output_type": "display_data",
                    "data": {
                        "text/html": "Commands completed successfully."
                    },
                    "metadata": {}
                },
                {
                    "output_type": "display_data",
                    "data": {
                        "text/html": "Commands completed successfully."
                    },
                    "metadata": {}
                },
                {
                    "output_type": "display_data",
                    "data": {
                        "text/html": "Commands completed successfully."
                    },
                    "metadata": {}
                },
                {
                    "output_type": "display_data",
                    "data": {
                        "text/html": "Commands completed successfully."
                    },
                    "metadata": {}
                },
                {
                    "output_type": "display_data",
                    "data": {
                        "text/html": "Commands completed successfully."
                    },
                    "metadata": {}
                },
                {
                    "output_type": "display_data",
                    "data": {
                        "text/html": "Commands completed successfully."
                    },
                    "metadata": {}
                },
                {
                    "output_type": "display_data",
                    "data": {
                        "text/html": "Commands completed successfully."
                    },
                    "metadata": {}
                },
                {
                    "output_type": "display_data",
                    "data": {
                        "text/html": "(1 row affected)"
                    },
                    "metadata": {}
                },
                {
                    "output_type": "display_data",
                    "data": {
                        "text/html": "Total execution time: 00:00:01.013"
                    },
                    "metadata": {}
                },
                {
                    "output_type": "execute_result",
                    "metadata": {},
                    "execution_count": 10,
                    "data": {
                        "application/vnd.dataresource+json": {
                            "schema": {
                                "fields": [
                                    {
                                        "name": "(No column name)"
                                    }
                                ]
                            },
                            "data": [
                                {
                                    "0": "1"
                                }
                            ]
                        },
                        "text/html": [
                            "<table>",
                            "<tr><th>(No column name)</th></tr>",
                            "<tr><td>1</td></tr>",
                            "</table>"
                        ]
                    }
                }
            ],
            "execution_count": 10
        },
        {
            "cell_type": "markdown",
            "source": [
                "### Create table to track activity in the GeoFence\n",
                "\n",
                "Next, create a system-versioned table to keep track of what activity is currently happening within the GeoFence. This means tracking buses entering, exiting, and staying within a given GeoFence. Another table within that table will serve as a histroical log for all activity."
            ],
            "metadata": {
                "azdata_cell_guid": "46ac87ea-ab53-4c87-9b41-57a3b96924a0"
            }
        },
        {
            "cell_type": "code",
            "source": [
                "SET ANSI_NULLS ON\r\n",
                "GO\r\n",
                "SET QUOTED_IDENTIFIER ON\r\n",
                "GO\r\n",
                "CREATE TABLE [dbo].[GeoFencesActive](\r\n",
                "\t[Id] [int] IDENTITY(1,1) NOT NULL PRIMARY KEY CLUSTERED,\r\n",
                "\t[VehicleId] [int] NOT NULL,\r\n",
                "\t[DirectionId] [int] NOT NULL,\r\n",
                "\t[GeoFenceId] [int] NOT NULL,\r\n",
                "\t[SysStartTime] [datetime2](7) GENERATED ALWAYS AS ROW START NOT NULL,\r\n",
                "\t[SysEndTime] [datetime2](7) GENERATED ALWAYS AS ROW END NOT NULL,\r\n",
                "\tPERIOD FOR SYSTEM_TIME ([SysStartTime], [SysEndTime])\r\n",
                ") ON [PRIMARY]\r\n",
                "WITH\r\n",
                "(\r\n",
                "SYSTEM_VERSIONING = ON ( HISTORY_TABLE = [dbo].[GeoFencesActiveHistory] )\r\n",
                ")\r\n",
                "GO"
            ],
            "metadata": {
                "azdata_cell_guid": "3e3da57b-2132-4788-b46c-20374d080b2f"
            },
            "outputs": [
                {
                    "output_type": "display_data",
                    "data": {
                        "text/html": "Commands completed successfully."
                    },
                    "metadata": {}
                },
                {
                    "output_type": "display_data",
                    "data": {
                        "text/html": "Commands completed successfully."
                    },
                    "metadata": {}
                },
                {
                    "output_type": "display_data",
                    "data": {
                        "text/html": "Commands completed successfully."
                    },
                    "metadata": {}
                },
                {
                    "output_type": "display_data",
                    "data": {
                        "text/html": "Total execution time: 00:00:00.232"
                    },
                    "metadata": {}
                }
            ],
            "execution_count": 11
        },
        {
            "cell_type": "markdown",
            "source": [
                "### Create a table to store real-time bus data\n",
                "\n",
                "You'll need one last table to store the real-time bus data as it comes in."
            ],
            "metadata": {
                "azdata_cell_guid": "c8d2f9b4-af0e-48c2-a594-e21bb7e297a7"
            }
        },
        {
            "cell_type": "code",
            "source": [
                "SET ANSI_NULLS ON\r\n",
                "GO\r\n",
                "SET QUOTED_IDENTIFIER ON\r\n",
                "GO\r\n",
                "CREATE TABLE [dbo].[BusData](\r\n",
                "\t[Id] [int] IDENTITY(1,1) NOT NULL,\r\n",
                "\t[DirectionId] [int] NOT NULL,\r\n",
                "\t[RouteId] [int] NOT NULL,\r\n",
                "\t[VehicleId] [int] NOT NULL,\r\n",
                "\t[Location] [geography] NOT NULL,\r\n",
                "\t[TimestampUTC] [datetime2](7) NOT NULL,\r\n",
                "\t[ReceivedAtUTC] [datetime2](7) NOT NULL\r\n",
                ") ON [PRIMARY] TEXTIMAGE_ON [PRIMARY]\r\n",
                "GO\r\n",
                "ALTER TABLE [dbo].[BusData] ADD PRIMARY KEY CLUSTERED \r\n",
                "(\r\n",
                "\t[Id] ASC\r\n",
                ")WITH (STATISTICS_NORECOMPUTE = OFF, IGNORE_DUP_KEY = OFF, ONLINE = OFF, OPTIMIZE_FOR_SEQUENTIAL_KEY = OFF) ON [PRIMARY]\r\n",
                "GO\r\n",
                "CREATE NONCLUSTERED INDEX [ix1] ON [dbo].[BusData]\r\n",
                "(\r\n",
                "\t[ReceivedAtUTC] DESC\r\n",
                ")WITH (STATISTICS_NORECOMPUTE = OFF, DROP_EXISTING = OFF, ONLINE = OFF, OPTIMIZE_FOR_SEQUENTIAL_KEY = OFF) ON [PRIMARY]\r\n",
                "GO\r\n",
                "ALTER TABLE [dbo].[BusData] ADD  DEFAULT (sysutcdatetime()) FOR [ReceivedAtUTC]\r\n",
                "GO\r\n",
                "SET ARITHABORT ON\r\n",
                "SET CONCAT_NULL_YIELDS_NULL ON\r\n",
                "SET QUOTED_IDENTIFIER ON\r\n",
                "SET ANSI_NULLS ON\r\n",
                "SET ANSI_PADDING ON\r\n",
                "SET ANSI_WARNINGS ON\r\n",
                "SET NUMERIC_ROUNDABORT OFF\r\n",
                "GO\r\n",
                "CREATE SPATIAL INDEX [ixsp] ON [dbo].[BusData]\r\n",
                "(\r\n",
                "\t[Location]\r\n",
                ")USING  GEOGRAPHY_AUTO_GRID \r\n",
                "WITH (\r\n",
                "CELLS_PER_OBJECT = 12, STATISTICS_NORECOMPUTE = OFF, DROP_EXISTING = OFF, ONLINE = OFF) ON [PRIMARY]\r\n",
                "GO"
            ],
            "metadata": {
                "azdata_cell_guid": "59797569-2711-4675-ab8a-532e0e2a7c22"
            },
            "outputs": [
                {
                    "output_type": "display_data",
                    "data": {
                        "text/html": "Commands completed successfully."
                    },
                    "metadata": {}
                },
                {
                    "output_type": "display_data",
                    "data": {
                        "text/html": "Commands completed successfully."
                    },
                    "metadata": {}
                },
                {
                    "output_type": "display_data",
                    "data": {
                        "text/html": "Commands completed successfully."
                    },
                    "metadata": {}
                },
                {
                    "output_type": "display_data",
                    "data": {
                        "text/html": "Commands completed successfully."
                    },
                    "metadata": {}
                },
                {
                    "output_type": "display_data",
                    "data": {
                        "text/html": "Commands completed successfully."
                    },
                    "metadata": {}
                },
                {
                    "output_type": "display_data",
                    "data": {
                        "text/html": "Commands completed successfully."
                    },
                    "metadata": {}
                },
                {
                    "output_type": "display_data",
                    "data": {
                        "text/html": "Commands completed successfully."
                    },
                    "metadata": {}
                },
                {
                    "output_type": "display_data",
                    "data": {
                        "text/html": "Commands completed successfully."
                    },
                    "metadata": {}
                },
                {
                    "output_type": "display_data",
                    "data": {
                        "text/html": "Total execution time: 00:00:00.591"
                    },
                    "metadata": {}
                }
            ],
            "execution_count": 12
        },
        {
            "cell_type": "markdown",
            "source": [
                "Confirm you've created the tables with the following."
            ],
            "metadata": {
                "azdata_cell_guid": "48c43e3d-b0d0-462a-aaab-da6ca728b2de"
            }
        },
        {
            "cell_type": "code",
            "source": [
                "EXEC sp_tables\r\n",
                "    @table_owner = 'dbo';"
            ],
            "metadata": {
                "azdata_cell_guid": "5619e4aa-306c-46e5-9779-699bb29e387a"
            },
            "outputs": [
                {
                    "output_type": "display_data",
                    "data": {
                        "text/html": "(6 rows affected)"
                    },
                    "metadata": {}
                },
                {
                    "output_type": "display_data",
                    "data": {
                        "text/html": "Total execution time: 00:00:00.087"
                    },
                    "metadata": {}
                },
                {
                    "output_type": "execute_result",
                    "metadata": {},
                    "execution_count": 14,
                    "data": {
                        "application/vnd.dataresource+json": {
                            "schema": {
                                "fields": [
                                    {
                                        "name": "TABLE_QUALIFIER"
                                    },
                                    {
                                        "name": "TABLE_OWNER"
                                    },
                                    {
                                        "name": "TABLE_NAME"
                                    },
                                    {
                                        "name": "TABLE_TYPE"
                                    },
                                    {
                                        "name": "REMARKS"
                                    }
                                ]
                            },
                            "data": [
                                {
                                    "0": "bus-db",
                                    "1": "dbo",
                                    "2": "BusData",
                                    "3": "TABLE",
                                    "4": "NULL"
                                },
                                {
                                    "0": "bus-db",
                                    "1": "dbo",
                                    "2": "GeoFences",
                                    "3": "TABLE",
                                    "4": "NULL"
                                },
                                {
                                    "0": "bus-db",
                                    "1": "dbo",
                                    "2": "GeoFencesActive",
                                    "3": "TABLE",
                                    "4": "NULL"
                                },
                                {
                                    "0": "bus-db",
                                    "1": "dbo",
                                    "2": "GeoFencesActiveHistory",
                                    "3": "TABLE",
                                    "4": "NULL"
                                },
                                {
                                    "0": "bus-db",
                                    "1": "dbo",
                                    "2": "MonitoredRoutes",
                                    "3": "TABLE",
                                    "4": "NULL"
                                },
                                {
                                    "0": "bus-db",
                                    "1": "dbo",
                                    "2": "Routes",
                                    "3": "TABLE",
                                    "4": "NULL"
                                }
                            ]
                        },
                        "text/html": [
                            "<table>",
                            "<tr><th>TABLE_QUALIFIER</th><th>TABLE_OWNER</th><th>TABLE_NAME</th><th>TABLE_TYPE</th><th>REMARKS</th></tr>",
                            "<tr><td>bus-db</td><td>dbo</td><td>BusData</td><td>TABLE</td><td>NULL</td></tr>",
                            "<tr><td>bus-db</td><td>dbo</td><td>GeoFences</td><td>TABLE</td><td>NULL</td></tr>",
                            "<tr><td>bus-db</td><td>dbo</td><td>GeoFencesActive</td><td>TABLE</td><td>NULL</td></tr>",
                            "<tr><td>bus-db</td><td>dbo</td><td>GeoFencesActiveHistory</td><td>TABLE</td><td>NULL</td></tr>",
                            "<tr><td>bus-db</td><td>dbo</td><td>MonitoredRoutes</td><td>TABLE</td><td>NULL</td></tr>",
                            "<tr><td>bus-db</td><td>dbo</td><td>Routes</td><td>TABLE</td><td>NULL</td></tr>",
                            "</table>"
                        ]
                    }
                }
            ],
            "execution_count": 14
        },
        {
            "cell_type": "markdown",
            "source": [
                "## Part 3: Create Stored Procedures to get and add data\n",
                "\n",
                "A stored procedure is a way to group SQL statements and execute them on the database with one command. For the catching the bus scenario, three stored procedures will be required:\n",
                "\n",
                "1. **web.AddBusData**: this stored procedure takes in JSON data containing new bus route, vehicle, direction, time, and location information and adds it to the _busData_ table. If a bus enters/exits a GeoFence, it will also log this information in the _GeoFencesActive_ table."
            ],
            "metadata": {
                "azdata_cell_guid": "85b43292-8b20-432a-9b39-b72462d02b50"
            }
        },
        {
            "cell_type": "code",
            "source": [
                "CREATE SCHEMA [web]\r\n",
                "    AUTHORIZATION [dbo];\r\n",
                "GO\r\n",
                "SET ANSI_NULLS ON\r\n",
                "GO\r\n",
                "SET QUOTED_IDENTIFIER ON\r\n",
                "GO\r\n",
                "/*\r\n",
                "\tAdd received Bus geolocation data and check if buses are\r\n",
                "\tinside any defined GeoFence. JSON must be like:\r\n",
                "\r\n",
                "\t{\r\n",
                "\t\t\"DirectionId\": 1,\r\n",
                "\t\t\"RouteId\": 100001,\r\n",
                "\t\t\"VehicleId\": 2,\r\n",
                "\t\t\"Position\": {\r\n",
                "\t\t\t\"Latitude\": 47.61705102765316,\r\n",
                "\t\t\t\"Longitude\": -122.14291865504012 \r\n",
                "\t\t},\r\n",
                "\t\t\"TimestampUTC\": \"20201031\"\r\n",
                "\t}\r\n",
                "}\r\n",
                "*/\r\n",
                "CREATE   procedure [web].[AddBusData]\r\n",
                "@payload nvarchar(max) \r\n",
                "as\r\n",
                "begin\t\r\n",
                "\tset nocount on\r\n",
                "\tset xact_abort on\r\n",
                "\tset tran isolation level serializable\r\n",
                "\tbegin tran\r\n",
                "\r\n",
                "\tif (isjson(@payload) != 1) begin;\r\n",
                "\t\tthrow 50000, 'Payload is not a valid JSON document', 16;\r\n",
                "\tend;\r\n",
                "\r\n",
                "\tdeclare @ids as table (id int);\r\n",
                "\r\n",
                "\t-- insert bus data\r\n",
                "\tinsert into dbo.[BusData] \r\n",
                "\t\t([DirectionId], [RouteId], [VehicleId], [Location], [TimestampUTC])\r\n",
                "\toutput\r\n",
                "\t\t[Inserted].Id into @ids\r\n",
                "\tselect\r\n",
                "\t\t[DirectionId], \r\n",
                "\t\t[RouteId], \r\n",
                "\t\t[VehicleId], \r\n",
                "\t\tgeography::Point([Latitude], [Longitude], 4326) as [Location], \r\n",
                "\t\t[TimestampUTC]\r\n",
                "\tfrom\r\n",
                "\t\topenjson(@payload) with (\r\n",
                "\t\t\t[DirectionId] int,\r\n",
                "\t\t\t[RouteId] int,\r\n",
                "\t\t\t[VehicleId] int,\r\n",
                "\t\t\t[Latitude] decimal(10,6) '$.Position.Latitude',\r\n",
                "\t\t\t[Longitude] decimal(10,6) '$.Position.Longitude',\r\n",
                "\t\t\t[TimestampUTC] datetime2(7)\r\n",
                "\t\t)\r\n",
                "\t\t\r\n",
                "\t-- Get details of inserted data\r\n",
                "\tselect * into #t from dbo.[BusData] where id  in (select i.id from @ids i);\r\n",
                "\r\n",
                "\t-- Find geofences in which the vehicle is in\r\n",
                "\tselect \r\n",
                "\t\tt.[Id] as BusDataId,\r\n",
                "\t\tt.[VehicleId],\r\n",
                "\t\tt.[DirectionId],\r\n",
                "\t\tt.[TimestampUTC],\r\n",
                "\t\tt.[RouteId],\t\t\r\n",
                "\t\tg.Id as GeoFenceId\r\n",
                "\tinto\r\n",
                "\t\t#g\r\n",
                "\tfrom \r\n",
                "\t\tdbo.GeoFences g \r\n",
                "\tright join\r\n",
                "\t\t#t t on g.GeoFence.STContains(t.[Location]) = 1;\r\n",
                "\r\n",
                "\t-- Calculate status\r\n",
                "\tselect\r\n",
                "\t\tc.BusDataId,\r\n",
                "\t\tcoalesce(a.[GeoFenceId], c.[GeoFenceId]) as GeoFenceId,\r\n",
                "\t\tcoalesce(a.[DirectionId], c.[DirectionId]) as DirectionId,\r\n",
                "\t\tcoalesce(a.[VehicleId], c.[VehicleId]) as VehicleId,\r\n",
                "\t\tc.[RouteId],\r\n",
                "\t\tc.[TimestampUTC],\r\n",
                "\t\tcase \r\n",
                "\t\t\twhen a.GeoFenceId is null and c.GeoFenceId is not null then 'Enter'\r\n",
                "\t\t\twhen a.GeoFenceId is not null and c.GeoFenceId is null then 'Exit'\t\t\r\n",
                "\t\tend as [Status]\r\n",
                "\tinto\r\n",
                "\t\t#s \r\n",
                "\tfrom\r\n",
                "\t\t#g c\r\n",
                "\tfull outer join\r\n",
                "\t\tdbo.GeoFencesActive a on c.DirectionId = a.DirectionId and c.VehicleId = a.VehicleId;\r\n",
                "\t\r\n",
                "\t-- Delete exited geofences\r\n",
                "\tdelete \r\n",
                "\t\ta\r\n",
                "\tfrom\r\n",
                "\t\tdbo.GeoFencesActive a\r\n",
                "\tinner join\r\n",
                "\t\t#s s on a.VehicleId = s.VehicleId and s.DirectionId = a.DirectionId and s.[Status] = 'Exit';\r\n",
                "\r\n",
                "\t-- Insert entered geofences\r\n",
                "\tinsert into dbo.GeoFencesActive \r\n",
                "\t\t([GeoFenceId], [DirectionId], [VehicleId])\r\n",
                "\tselect\r\n",
                "\t\t[GeoFenceId], [DirectionId], [VehicleId]\r\n",
                "\tfrom\r\n",
                "\t\t#s s\r\n",
                "\twhere \r\n",
                "\t\ts.[Status] = 'Enter';\r\n",
                "\r\n",
                "\t-- Insert Log\r\n",
                "\tinsert into dbo.GeoFenceLog \r\n",
                "\t\t(GeoFenceId, BusDataId, [RouteId], [VehicleId], [TimestampUTC], [Status])\r\n",
                "\tselect\r\n",
                "\t\tGeoFenceId, BusDataId, [RouteId], [VehicleId], [TimestampUTC], isnull([Status], 'In')\r\n",
                "\tfrom\r\n",
                "\t\t#s s\r\n",
                "\twhere\r\n",
                "\t\ts.[GeoFenceId] is not null\r\n",
                "\tand\r\n",
                "\t\ts.[BusDataId] is not null\r\n",
                "\r\n",
                "\t-- Return Entered or Exited geofences\r\n",
                "\tselect\r\n",
                "\t((\r\n",
                "\t\tselect\r\n",
                "\t\t\ts.[BusDataId],  \r\n",
                "\t\t\ts.[VehicleId],\r\n",
                "\t\t\ts.[DirectionId],  \r\n",
                "\t\t\ts.[RouteId], \r\n",
                "\t\t\tr.[ShortName] as RouteName,\r\n",
                "\t\t\ts.[GeoFenceId], \r\n",
                "\t\t\tgf.[Name] as GeoFence,\r\n",
                "\t\t\ts.[Status] as GeoFenceStatus,\r\n",
                "\t\t\ts.[TimestampUTC]\r\n",
                "\t\tfrom\r\n",
                "\t\t\t#s s\r\n",
                "\t\tinner join\r\n",
                "\t\t\tdbo.[GeoFences] gf on s.[GeoFenceId] = gf.[Id]\r\n",
                "\t\tinner join\r\n",
                "\t\t\tdbo.[Routes] r on s.[RouteId] = r.[Id]\r\n",
                "\t\twhere\r\n",
                "\t\t\ts.[Status] is not null and s.[GeoFenceId] is not null\r\n",
                "\t\tfor \r\n",
                "\t\t\tjson path\r\n",
                "\t)) as ActivatedGeoFences\r\n",
                "\tcommit\r\n",
                "end\r\n",
                "GO\r\n",
                ""
            ],
            "metadata": {
                "azdata_cell_guid": "a29d10d2-ad7f-4062-bad6-3536ffcb5a1c"
            },
            "outputs": [
                {
                    "output_type": "display_data",
                    "data": {
                        "text/html": "Commands completed successfully."
                    },
                    "metadata": {}
                },
                {
                    "output_type": "display_data",
                    "data": {
                        "text/html": "Commands completed successfully."
                    },
                    "metadata": {}
                },
                {
                    "output_type": "display_data",
                    "data": {
                        "text/html": "Commands completed successfully."
                    },
                    "metadata": {}
                },
                {
                    "output_type": "display_data",
                    "data": {
                        "text/html": "Commands completed successfully."
                    },
                    "metadata": {}
                },
                {
                    "output_type": "display_data",
                    "data": {
                        "text/html": "Total execution time: 00:00:00.303"
                    },
                    "metadata": {}
                }
            ],
            "execution_count": 15
        },
        {
            "cell_type": "markdown",
            "source": [
                "2. **web.GetMonitoredRoutes**: this stored procedure returns the route IDs for the bus routes that are being monitored."
            ],
            "metadata": {
                "azdata_cell_guid": "905f2a7b-5775-4149-90c0-afea8ec249ff"
            }
        },
        {
            "cell_type": "code",
            "source": [
                "SET ANSI_NULLS ON\r\n",
                "GO\r\n",
                "SET QUOTED_IDENTIFIER ON\r\n",
                "GO\r\n",
                "\r\n",
                "/*\r\n",
                "\tReturn the Routes (and thus the buses) to monitor\r\n",
                "*/\r\n",
                "CREATE   procedure [web].[GetMonitoredRoutes]\r\n",
                "as\r\n",
                "begin\r\n",
                "\tselect \r\n",
                "\t((\t\r\n",
                "\t\tselect RouteId from dbo.[MonitoredRoutes] for json auto\r\n",
                "\t)) as MonitoredRoutes\r\n",
                "end\r\n",
                "GO"
            ],
            "metadata": {
                "azdata_cell_guid": "afc7f551-18a4-49bb-bf9f-a8f7f30bdafd"
            },
            "outputs": [
                {
                    "output_type": "display_data",
                    "data": {
                        "text/html": "Commands completed successfully."
                    },
                    "metadata": {}
                },
                {
                    "output_type": "display_data",
                    "data": {
                        "text/html": "Commands completed successfully."
                    },
                    "metadata": {}
                },
                {
                    "output_type": "display_data",
                    "data": {
                        "text/html": "Commands completed successfully."
                    },
                    "metadata": {}
                },
                {
                    "output_type": "display_data",
                    "data": {
                        "text/html": "Total execution time: 00:00:00.222"
                    },
                    "metadata": {}
                }
            ],
            "execution_count": 16
        },
        {
            "cell_type": "markdown",
            "source": [
                "3. **web.GetMonitoredBusData**: this stored procedure will return bus information for the 50 most-recent buses within 5 kilometers of the monitored GeoFence(s)."
            ],
            "metadata": {
                "azdata_cell_guid": "ee6d9b66-9075-4adf-bce7-a09b78d0b303"
            }
        },
        {
            "cell_type": "code",
            "source": [
                "SET ANSI_NULLS ON\r\n",
                "GO\r\n",
                "SET QUOTED_IDENTIFIER ON\r\n",
                "GO\r\n",
                "\r\n",
                "/*\r\n",
                "\tReturn last geospatial data for bus closest to the GeoFence\r\n",
                "*/\r\n",
                "CREATE procedure [web].[GetMonitoredBusData]\r\n",
                "@routeId int,\r\n",
                "@geofenceId int\r\n",
                "as\r\n",
                "begin\r\n",
                "\twith cte as\r\n",
                "\t(\r\n",
                "\t\t-- Get the latest location of all the buses in the given route\r\n",
                "\t\tselect top (1) with ties \r\n",
                "\t\t\t*  \r\n",
                "\t\tfrom \r\n",
                "\t\t\tdbo.[BusData] \r\n",
                "\t\twhere\r\n",
                "\t\t\t[RouteId] = @routeId\r\n",
                "\t\torder by \r\n",
                "\t\t\t[ReceivedAtUTC] desc\r\n",
                "\t),\r\n",
                "\tcte2 as\r\n",
                "\t(\r\n",
                "\t\t-- Get the closest to the GeoFence\r\n",
                "\t\tselect top (1)\r\n",
                "\t\t\tc.[VehicleId],\r\n",
                "\t\t\tgf.[GeoFence],\r\n",
                "\t\t\tc.[Location].STDistance(gf.[GeoFence]) as d\r\n",
                "\t\tfrom\r\n",
                "\t\t\t[cte] c\r\n",
                "\t\tcross join\r\n",
                "\t\t\tdbo.[GeoFences] gf\r\n",
                "\t\twhere\r\n",
                "\t\t\tgf.[Id] = @geofenceId\r\n",
                "\t\torder by\r\n",
                "\t\t\td \r\n",
                "\t), cte3 as\r\n",
                "\t(\r\n",
                "\t-- Take the last 50 points \r\n",
                "\tselect top (50)\r\n",
                "\t\t[bd].[VehicleId],\r\n",
                "\t\t[bd].[DirectionId],\r\n",
                "\t\t[bd].[Location] as l,\r\n",
                "\t\t[bd].[Location].STDistance([GeoFence]) as d\r\n",
                "\tfrom\r\n",
                "\t\tdbo.[BusData] bd\r\n",
                "\tinner join\r\n",
                "\t\tcte2 on [cte2].[VehicleId] = [bd].[VehicleId]\r\n",
                "\torder by \r\n",
                "\t\tid desc\r\n",
                "\t)\r\n",
                "\t-- Return only the points that are withing 5 Km\r\n",
                "\tselect \r\n",
                "\t((\r\n",
                "\t\tselect\r\n",
                "\t\t\tgeography::UnionAggregate(l).ToString() as [busData],\r\n",
                "\t\t\t(select [GeoFence].ToString() from dbo.[GeoFences] where Id = @geofenceId) as [geoFence]\r\n",
                "\t\tfrom\r\n",
                "\t\t\tcte3\r\n",
                "\t\twhere\r\n",
                "\t\t\td < 5000\r\n",
                "\t\tfor json auto, include_null_values, without_array_wrapper\r\n",
                "\t)) as locationData\r\n",
                "end\r\n",
                "GO"
            ],
            "metadata": {
                "azdata_cell_guid": "d7340308-a55c-443f-a235-8f7848d90089"
            },
            "outputs": [
                {
                    "output_type": "display_data",
                    "data": {
                        "text/html": "Commands completed successfully."
                    },
                    "metadata": {}
                },
                {
                    "output_type": "display_data",
                    "data": {
                        "text/html": "Commands completed successfully."
                    },
                    "metadata": {}
                },
                {
                    "output_type": "display_data",
                    "data": {
                        "text/html": "Commands completed successfully."
                    },
                    "metadata": {}
                },
                {
                    "output_type": "display_data",
                    "data": {
                        "text/html": "Total execution time: 00:00:00.228"
                    },
                    "metadata": {}
                }
            ],
            "execution_count": 17
        },
        {
            "cell_type": "markdown",
            "source": [
                "Confirm you've created the stored procedures with the following."
            ],
            "metadata": {
                "azdata_cell_guid": "57da2a37-393c-47c3-8409-2f3db8d1a7cc"
            }
        },
        {
            "cell_type": "code",
            "source": [
                "EXEC sp_stored_procedures\r\n",
                "    @sp_owner = 'web';"
            ],
            "metadata": {
                "azdata_cell_guid": "004217bf-00f5-48e4-ab2f-2b972c9e0394"
            },
            "outputs": [
                {
                    "output_type": "display_data",
                    "data": {
                        "text/html": "(3 rows affected)"
                    },
                    "metadata": {}
                },
                {
                    "output_type": "display_data",
                    "data": {
                        "text/html": "Total execution time: 00:00:00.080"
                    },
                    "metadata": {}
                },
                {
                    "output_type": "execute_result",
                    "metadata": {},
                    "execution_count": 21,
                    "data": {
                        "application/vnd.dataresource+json": {
                            "schema": {
                                "fields": [
                                    {
                                        "name": "PROCEDURE_QUALIFIER"
                                    },
                                    {
                                        "name": "PROCEDURE_OWNER"
                                    },
                                    {
                                        "name": "PROCEDURE_NAME"
                                    },
                                    {
                                        "name": "NUM_INPUT_PARAMS"
                                    },
                                    {
                                        "name": "NUM_OUTPUT_PARAMS"
                                    },
                                    {
                                        "name": "NUM_RESULT_SETS"
                                    },
                                    {
                                        "name": "REMARKS"
                                    },
                                    {
                                        "name": "PROCEDURE_TYPE"
                                    }
                                ]
                            },
                            "data": [
                                {
                                    "0": "bus-db",
                                    "1": "web",
                                    "2": "AddBusData;1",
                                    "3": "-1",
                                    "4": "-1",
                                    "5": "-1",
                                    "6": "NULL",
                                    "7": "2"
                                },
                                {
                                    "0": "bus-db",
                                    "1": "web",
                                    "2": "GetMonitoredBusData;1",
                                    "3": "-1",
                                    "4": "-1",
                                    "5": "-1",
                                    "6": "NULL",
                                    "7": "2"
                                },
                                {
                                    "0": "bus-db",
                                    "1": "web",
                                    "2": "GetMonitoredRoutes;1",
                                    "3": "-1",
                                    "4": "-1",
                                    "5": "-1",
                                    "6": "NULL",
                                    "7": "2"
                                }
                            ]
                        },
                        "text/html": [
                            "<table>",
                            "<tr><th>PROCEDURE_QUALIFIER</th><th>PROCEDURE_OWNER</th><th>PROCEDURE_NAME</th><th>NUM_INPUT_PARAMS</th><th>NUM_OUTPUT_PARAMS</th><th>NUM_RESULT_SETS</th><th>REMARKS</th><th>PROCEDURE_TYPE</th></tr>",
                            "<tr><td>bus-db</td><td>web</td><td>AddBusData;1</td><td>-1</td><td>-1</td><td>-1</td><td>NULL</td><td>2</td></tr>",
                            "<tr><td>bus-db</td><td>web</td><td>GetMonitoredBusData;1</td><td>-1</td><td>-1</td><td>-1</td><td>NULL</td><td>2</td></tr>",
                            "<tr><td>bus-db</td><td>web</td><td>GetMonitoredRoutes;1</td><td>-1</td><td>-1</td><td>-1</td><td>NULL</td><td>2</td></tr>",
                            "</table>"
                        ]
                    }
                }
            ],
            "execution_count": 21
        }
    ]
}